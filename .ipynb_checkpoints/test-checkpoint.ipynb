{
 "cells": [
  {
   "cell_type": "code",
   "execution_count": 40,
   "metadata": {
    "collapsed": false,
    "jupyter": {
     "outputs_hidden": false
    }
   },
   "outputs": [
    {
     "name": "stdout",
     "output_type": "stream",
     "text": [
      "http://130.92.128.162:8086/write?db=slowcontrol\n"
     ]
    }
   ],
   "source": [
    "import pycurl\n",
    "import json\n",
    "\n",
    "db_url = \"http://130.92.128.162\"\n",
    "db_port = \"8086\"\n",
    "db_name = \"slowcontrol\"\n",
    "\n",
    "fullUrl = f\"{db_url}:{db_port}/write?db={db_name}\"\n",
    "print(fullUrl)\n",
    "# post = f\"timedelta value=0.5\"\n",
    "post = json.dumps({'timedelta': 'value=0.5'})\n"
   ]
  },
  {
   "cell_type": "code",
   "execution_count": 41,
   "metadata": {},
   "outputs": [],
   "source": [
    "c = pycurl.Curl()\n",
    "c.setopt(pycurl.POST, 1)\n",
    "c.setopt(pycurl.POSTFIELDSIZE, 0)\n",
    "c.setopt(pycurl.POSTFIELDS, post)\n",
    "c.setopt(pycurl.HTTPHEADER, ['Accept: application/json',\n",
    "                             'X-Requested-By:MyClient',\n",
    "                             'Content-Type:',\n",
    "                             'Content-Length:'])\n",
    "c.setopt(pycurl.URL, fullUrl)\n",
    "c.setopt(pycurl.VERBOSE, 1)\n",
    "c.perform()"
   ]
  },
  {
   "cell_type": "code",
   "execution_count": null,
   "metadata": {},
   "outputs": [],
   "source": [
    "post = f'timedelta value={timedelta}'\n",
    "    subprocess.call([\"curl\", \"-i\", \"-XPOST\", db_url+\":\"+str(db_port)+\"/write?db=\"+db_name,\n",
    "                     \"--data-binary\", post], stdout=subprocess.DEVNULL, stderr=subprocess.DEVNULL)\n"
   ]
  }
 ],
 "metadata": {
  "kernelspec": {
   "display_name": "Python 3",
   "language": "python",
   "name": "python3"
  },
  "language_info": {
   "codemirror_mode": {
    "name": "ipython",
    "version": 3
   },
   "file_extension": ".py",
   "mimetype": "text/x-python",
   "name": "python",
   "nbconvert_exporter": "python",
   "pygments_lexer": "ipython3",
   "version": "3.7.8"
  }
 },
 "nbformat": 4,
 "nbformat_minor": 4
}
